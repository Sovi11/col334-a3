{
 "cells": [
  {
   "cell_type": "code",
   "execution_count": 1,
   "id": "97416360",
   "metadata": {},
   "outputs": [],
   "source": [
    "address = \"127.0.0.1\"\n",
    "# address = '10.17.7.218'\n",
    "# address = \"10.17.7.134\"\n",
    "# Port = 9801\n",
    "Port = 9804\n",
    "# Port = 9801"
   ]
  },
  {
   "cell_type": "code",
   "execution_count": 2,
   "id": "47c94049",
   "metadata": {},
   "outputs": [],
   "source": [
    "import socket\n",
    "from time import sleep as sleep\n",
    "import time\n",
    "import threading\n",
    "import time\n",
    "import random\n",
    "import hashlib\n",
    "import matplotlib.pyplot as plt\n",
    "import numpy as np\n",
    "import pandas as pd"
   ]
  },
  {
   "cell_type": "code",
   "execution_count": 3,
   "id": "e7cd9c08",
   "metadata": {},
   "outputs": [],
   "source": [
    "def clean_buffer():\n",
    "    client_socket.settimeout(0.1)\n",
    "    try:\n",
    "        message, _ = client_socket.recvfrom(2048)\n",
    "        clean_buffer()\n",
    "    except:\n",
    "        return"
   ]
  },
  {
   "cell_type": "code",
   "execution_count": 4,
   "id": "67a03135",
   "metadata": {},
   "outputs": [],
   "source": [
    "def ask_size():\n",
    "    payload_size = \"SendSize\\nReset\\n\\n\".encode(\"utf-8\")\n",
    "    client_socket.sendto(payload_size, (address, Port))\n",
    "    client_socket.settimeout(0.1)\n",
    "    try:\n",
    "        message, _ = client_socket.recvfrom(1024)\n",
    "    except:\n",
    "        return ask_size()\n",
    "    return int((str(message)[7:][:-5]))"
   ]
  },
  {
   "cell_type": "code",
   "execution_count": 5,
   "id": "cd844079",
   "metadata": {},
   "outputs": [],
   "source": [
    "def send_offset_backoff(offset, num_bytes, backoff):\n",
    "    message_send = f\"Offset: {offset}\\nNumBytes: {num_bytes}\\n\\n\".encode(\"utf-8\")\n",
    "    client_socket.sendto(message_send, (address, Port))\n",
    "    client_socket.settimeout(backoff)\n",
    "    try:\n",
    "        message, _ = client_socket.recvfrom(2048)\n",
    "    except:\n",
    "        message = \"\".encode()\n",
    "    return str(message.decode())"
   ]
  },
  {
   "cell_type": "code",
   "execution_count": 6,
   "id": "075b1af5",
   "metadata": {},
   "outputs": [],
   "source": [
    "def submit_final(hex_final):\n",
    "    submit_message = f\"Submit: 2021CS10075@ok\\nMD5: {hex_final}\\n\\n\".encode()\n",
    "    client_socket.sendto(submit_message, (address, Port))\n",
    "    client_socket.settimeout(0.1)\n",
    "    try:\n",
    "        message, addr = client_socket.recvfrom(2048)\n",
    "        assert message.decode()[0:6] == \"Result\"\n",
    "    except:\n",
    "        submit_final(hex_final)\n",
    "    return message.decode()"
   ]
  },
  {
   "cell_type": "code",
   "execution_count": 7,
   "id": "44509e05",
   "metadata": {},
   "outputs": [],
   "source": [
    "client_socket = socket.socket(socket.AF_INET, socket.SOCK_DGRAM)"
   ]
  },
  {
   "cell_type": "code",
   "execution_count": 8,
   "id": "9fe6014b",
   "metadata": {},
   "outputs": [],
   "source": [
    "def cleanup_squished(message_str):\n",
    "    if len(message_str) == 0:\n",
    "        return None\n",
    "    list_string = message_str.split(\"\\n\", 3)\n",
    "    if list_string[3][0] == \"\\n\" and list_string[2] == \"Squished\":\n",
    "        list_string[3] = list_string[3][1:]\n",
    "    try:\n",
    "        assert int(list_string[1][-4:]) == len(list_string[3])\n",
    "    except:\n",
    "        return None\n",
    "    try:\n",
    "        return list_string\n",
    "    except:\n",
    "        return None"
   ]
  },
  {
   "cell_type": "code",
   "execution_count": 9,
   "id": "e30789bc",
   "metadata": {},
   "outputs": [],
   "source": [
    "def send_burst_squished(start, burst_size, rtt,backoff_time):\n",
    "    squish_cnt = 0\n",
    "    cnt = start\n",
    "    wrong_cnt = 0\n",
    "    things_rec = 0\n",
    "    rtt_time_sum = 0\n",
    "    rtt_sample_cnt = 0\n",
    "    while (things_rec < burst_size) and (len(set_received) < number_of_things_to_ask):\n",
    "        random_ele = cnt % number_of_things_to_ask\n",
    "        if random_ele in set_received:\n",
    "            cnt += 1\n",
    "            continue\n",
    "        start_time = time.time()\n",
    "        temp_thing = cleanup_squished(\n",
    "            send_offset_backoff(\n",
    "                1448 * random_ele,\n",
    "                min(1448, size_of_string - 1448 * random_ele),\n",
    "                backoff_time * rtt ,\n",
    "            )\n",
    "        )\n",
    "        if temp_thing is None:\n",
    "            wrong_cnt += 1\n",
    "            continue\n",
    "        else:\n",
    "            rtt_time_sum += time.time() - start_time\n",
    "            rtt_sample_cnt += 1\n",
    "            if temp_thing[2] == \"Squished\":\n",
    "                squish_cnt += 1\n",
    "            index_reverse = int(str(temp_thing[0])[7:]) // 1448\n",
    "            if index_reverse == (random_ele):\n",
    "                things_rec += 1\n",
    "                cnt += 1\n",
    "            set_received.add(index_reverse)\n",
    "            list_number_of_things_ask[index_reverse] = temp_thing[3]\n",
    "    if wrong_cnt > 0.1 * burst_size:\n",
    "        if rtt_sample_cnt == 0:\n",
    "            return [False, cnt, squish_cnt, 2*rtt]\n",
    "        else:\n",
    "            return [\n",
    "                False,\n",
    "                cnt,\n",
    "                squish_cnt,\n",
    "                rtt_time_sum / rtt_sample_cnt\n",
    "            ]\n",
    "\n",
    "    else:\n",
    "        if rtt_sample_cnt == 0:\n",
    "            return [True, cnt, squish_cnt, 2*rtt]\n",
    "        else:\n",
    "            return [\n",
    "                True,\n",
    "                cnt,\n",
    "                squish_cnt,\n",
    "                rtt_time_sum / rtt_sample_cnt\n",
    "            ]"
   ]
  },
  {
   "cell_type": "code",
   "execution_count": 10,
   "id": "9316c354",
   "metadata": {},
   "outputs": [],
   "source": [
    "def weighted_std(rtt_times): \n",
    "    return pd.Series(rtt_times).std()"
   ]
  },
  {
   "cell_type": "code",
   "execution_count": 11,
   "id": "4401993c",
   "metadata": {},
   "outputs": [
    {
     "data": {
      "text/plain": [
       "nan"
      ]
     },
     "execution_count": 11,
     "metadata": {},
     "output_type": "execute_result"
    }
   ],
   "source": [
    "weighted_std([1])"
   ]
  },
  {
   "cell_type": "code",
   "execution_count": null,
   "id": "b8db812d",
   "metadata": {},
   "outputs": [
    {
     "name": "stdout",
     "output_type": "stream",
     "text": [
      "4\n",
      "8\n",
      "4\n",
      "8\n",
      "4\n",
      "8\n",
      "4\n",
      "4\n",
      "4\n",
      "4\n",
      "4\n",
      "8\n",
      "4\n",
      "4\n",
      "4\n",
      "4\n",
      "8\n",
      "16\n",
      "8\n",
      "4\n",
      "8\n",
      "4\n",
      "8\n",
      "4\n",
      "4\n",
      "8\n",
      "4\n",
      "4\n",
      "4\n",
      "4\n",
      "4\n",
      "4\n",
      "8\n",
      "4\n",
      "4\n",
      "8\n",
      "4\n",
      "8\n"
     ]
    }
   ],
   "source": [
    "rtt = 0.02\n",
    "time_sleep = 4\n",
    "time_sleep_init = 4\n",
    "clean_buffer()\n",
    "size_of_string = ask_size()\n",
    "number_of_things_to_ask = (size_of_string + 1447) // 1448\n",
    "list_number_of_things_ask = [-1 for _ in range(number_of_things_to_ask)]\n",
    "start_time = time.time()\n",
    "set_received = set()\n",
    "cnt = 0\n",
    "RTT_times = []\n",
    "cnt_array = []\n",
    "burst_size_init = 5\n",
    "start_init = 0\n",
    "incremental_rate = 1\n",
    "burst_size_list = []\n",
    "rtt_list=[]\n",
    "squish_cnt = 0\n",
    "backoff_time = 4\n",
    "backoff_time_init = 4\n",
    "while len(set_received) < number_of_things_to_ask:\n",
    "    [x, y, z, rtt_avg] = send_burst_squished(start_init, burst_size_init, rtt,backoff_time)\n",
    "    RTT_times.append(rtt_avg)\n",
    "    RTT_times.append(rtt_avg)\n",
    "    rtt_list.append(rtt)\n",
    "    rtt = rtt*0.5 + rtt_avg*0.5\n",
    "#     print(burst_size_init)\n",
    "    print(backoff_time)\n",
    "#     total_rtt_cnt += rtt_cnt\n",
    "    squish_cnt += z\n",
    "    burst_size_list.append(burst_size_init)\n",
    "    if burst_size_init <= 1:\n",
    "#         time_sleep*=2\n",
    "        time.sleep(max(time_sleep*rtt, 0.01))\n",
    "    if x:\n",
    "        burst_size_init += incremental_rate\n",
    "#         time_sleep = max(time_sleep /2 ,time_sleep_init)\n",
    "        backoff_time = max(backoff_time//2,backoff_time_init)\n",
    "        \n",
    "    else:\n",
    "        burst_size_init = (burst_size_init) // 2\n",
    "        time_sleep =  time_sleep*2\n",
    "        backoff_time =2*backoff_time\n",
    "\n",
    "    start_init = y\n",
    "#     print(RTT_times)\n",
    "    time.sleep(max(time_sleep*rtt, 0.01))\n",
    "string_submitted = \"\".join(list_number_of_things_ask)\n",
    "result = hashlib.md5(string_submitted.encode())\n",
    "print(submit_final(result.hexdigest()))\n",
    "print(f\"Number of squishes are {squish_cnt} \")\n",
    "clean_buffer()"
   ]
  },
  {
   "cell_type": "code",
   "execution_count": null,
   "id": "78f3a46c",
   "metadata": {},
   "outputs": [],
   "source": [
    "plt.plot(burst_size_list)"
   ]
  },
  {
   "cell_type": "code",
   "execution_count": null,
   "id": "4d46da7e",
   "metadata": {},
   "outputs": [],
   "source": [
    "plt.plot(RTT_times)"
   ]
  },
  {
   "cell_type": "code",
   "execution_count": null,
   "id": "bfb4b140",
   "metadata": {},
   "outputs": [],
   "source": [
    "pd.Series(RTT_times).describe()"
   ]
  },
  {
   "cell_type": "code",
   "execution_count": null,
   "id": "3b4f9f16",
   "metadata": {},
   "outputs": [],
   "source": [
    "plt.plot(rtt_list)"
   ]
  },
  {
   "cell_type": "code",
   "execution_count": null,
   "id": "49fc748e",
   "metadata": {},
   "outputs": [],
   "source": []
  }
 ],
 "metadata": {
  "kernelspec": {
   "display_name": "Python 3 (ipykernel)",
   "language": "python",
   "name": "python3"
  },
  "language_info": {
   "codemirror_mode": {
    "name": "ipython",
    "version": 3
   },
   "file_extension": ".py",
   "mimetype": "text/x-python",
   "name": "python",
   "nbconvert_exporter": "python",
   "pygments_lexer": "ipython3",
   "version": "3.10.9"
  }
 },
 "nbformat": 4,
 "nbformat_minor": 5
}
